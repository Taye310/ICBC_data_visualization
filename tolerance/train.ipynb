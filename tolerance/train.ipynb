{
 "cells": [
  {
   "cell_type": "code",
   "execution_count": 1,
   "metadata": {},
   "outputs": [],
   "source": [
    "import pandas as pd\n",
    "import numpy as np\n",
    "import torch\n",
    "import os\n",
    "import torch.nn.functional as F"
   ]
  },
  {
   "cell_type": "code",
   "execution_count": 2,
   "metadata": {},
   "outputs": [
    {
     "name": "stdout",
     "output_type": "stream",
     "text": [
      "Net(\n",
      "  (layer1): Linear(in_features=8, out_features=128, bias=True)\n",
      "  (layer2): Linear(in_features=128, out_features=3, bias=True)\n",
      ")\n"
     ]
    }
   ],
   "source": [
    "class Net(torch.nn.Module):\n",
    "    def __init__(self):\n",
    "        super(Net, self).__init__()\n",
    "        self.layer1 = torch.nn.Linear(8, 128)\n",
    "        self.layer2 = torch.nn.Linear(128, 3)\n",
    "\n",
    "    def forward(self, x):\n",
    "        x = F.relu(self.layer1(x))\n",
    "        x = self.layer2(x)\n",
    "        return x\n",
    "\n",
    "net = Net()\n",
    "print(net)\n",
    "\n",
    "optimizer = torch.optim.Adam(net.parameters(), lr=0.05)\n",
    "loss_func = torch.nn.MSELoss()"
   ]
  },
  {
   "cell_type": "code",
   "execution_count": 27,
   "metadata": {
    "scrolled": false
   },
   "outputs": [
    {
     "name": "stdout",
     "output_type": "stream",
     "text": [
      "torch.float32\n",
      "torch.float32\n"
     ]
    }
   ],
   "source": [
    "df_data = pd.read_csv('data.csv', names=['a','b','c','d','e','f','g','h'])\n",
    "df_label = pd.read_csv('label.csv', names=['label'])\n",
    "data = torch.unsqueeze(torch.FloatTensor(np.array(df_data)), dim=1)\n",
    "label = torch.unsqueeze(torch.FloatTensor(np.array(df_label)), dim=1)\n",
    "print(data.dtype)\n",
    "print(label.dtype)"
   ]
  },
  {
   "cell_type": "code",
   "execution_count": 28,
   "metadata": {
    "scrolled": true
   },
   "outputs": [
    {
     "name": "stdout",
     "output_type": "stream",
     "text": [
      "tensor(4.8916, grad_fn=<MseLossBackward>)\n",
      "tensor(1.2034, grad_fn=<MseLossBackward>)\n",
      "tensor(2.5023, grad_fn=<MseLossBackward>)\n",
      "tensor(1.2534, grad_fn=<MseLossBackward>)\n",
      "tensor(0.7058, grad_fn=<MseLossBackward>)\n",
      "tensor(1.0120, grad_fn=<MseLossBackward>)\n",
      "tensor(1.2276, grad_fn=<MseLossBackward>)\n",
      "tensor(1.1661, grad_fn=<MseLossBackward>)\n",
      "tensor(0.9441, grad_fn=<MseLossBackward>)\n",
      "tensor(0.7625, grad_fn=<MseLossBackward>)\n",
      "tensor(0.7838, grad_fn=<MseLossBackward>)\n",
      "tensor(0.9335, grad_fn=<MseLossBackward>)\n",
      "tensor(0.9582, grad_fn=<MseLossBackward>)\n",
      "tensor(0.8226, grad_fn=<MseLossBackward>)\n",
      "tensor(0.6973, grad_fn=<MseLossBackward>)\n",
      "tensor(0.6843, grad_fn=<MseLossBackward>)\n",
      "tensor(0.7424, grad_fn=<MseLossBackward>)\n",
      "tensor(0.7879, grad_fn=<MseLossBackward>)\n",
      "tensor(0.7813, grad_fn=<MseLossBackward>)\n",
      "tensor(0.7363, grad_fn=<MseLossBackward>)\n",
      "tensor(0.6941, grad_fn=<MseLossBackward>)\n",
      "tensor(0.6900, grad_fn=<MseLossBackward>)\n",
      "tensor(0.7187, grad_fn=<MseLossBackward>)\n",
      "tensor(0.7372, grad_fn=<MseLossBackward>)\n",
      "tensor(0.7181, grad_fn=<MseLossBackward>)\n",
      "tensor(0.6817, grad_fn=<MseLossBackward>)\n",
      "tensor(0.6638, grad_fn=<MseLossBackward>)\n",
      "tensor(0.6729, grad_fn=<MseLossBackward>)\n",
      "tensor(0.6909, grad_fn=<MseLossBackward>)\n",
      "tensor(0.6981, grad_fn=<MseLossBackward>)\n",
      "tensor(0.6899, grad_fn=<MseLossBackward>)\n",
      "tensor(0.6765, grad_fn=<MseLossBackward>)\n",
      "tensor(0.6717, grad_fn=<MseLossBackward>)\n",
      "tensor(0.6783, grad_fn=<MseLossBackward>)\n",
      "tensor(0.6855, grad_fn=<MseLossBackward>)\n",
      "tensor(0.6823, grad_fn=<MseLossBackward>)\n",
      "tensor(0.6710, grad_fn=<MseLossBackward>)\n",
      "tensor(0.6629, grad_fn=<MseLossBackward>)\n",
      "tensor(0.6641, grad_fn=<MseLossBackward>)\n",
      "tensor(0.6697, grad_fn=<MseLossBackward>)\n",
      "tensor(0.6721, grad_fn=<MseLossBackward>)\n",
      "tensor(0.6689, grad_fn=<MseLossBackward>)\n",
      "tensor(0.6644, grad_fn=<MseLossBackward>)\n",
      "tensor(0.6637, grad_fn=<MseLossBackward>)\n",
      "tensor(0.6669, grad_fn=<MseLossBackward>)\n",
      "tensor(0.6692, grad_fn=<MseLossBackward>)\n",
      "tensor(0.6672, grad_fn=<MseLossBackward>)\n",
      "tensor(0.6631, grad_fn=<MseLossBackward>)\n",
      "tensor(0.6613, grad_fn=<MseLossBackward>)\n",
      "tensor(0.6623, grad_fn=<MseLossBackward>)\n",
      "tensor(0.6637, grad_fn=<MseLossBackward>)\n",
      "tensor(0.6630, grad_fn=<MseLossBackward>)\n",
      "tensor(0.6612, grad_fn=<MseLossBackward>)\n",
      "tensor(0.6605, grad_fn=<MseLossBackward>)\n",
      "tensor(0.6616, grad_fn=<MseLossBackward>)\n",
      "tensor(0.6628, grad_fn=<MseLossBackward>)\n",
      "tensor(0.6624, grad_fn=<MseLossBackward>)\n",
      "tensor(0.6609, grad_fn=<MseLossBackward>)\n",
      "tensor(0.6601, grad_fn=<MseLossBackward>)\n",
      "tensor(0.6605, grad_fn=<MseLossBackward>)\n",
      "tensor(0.6609, grad_fn=<MseLossBackward>)\n",
      "tensor(0.6605, grad_fn=<MseLossBackward>)\n",
      "tensor(0.6596, grad_fn=<MseLossBackward>)\n",
      "tensor(0.6594, grad_fn=<MseLossBackward>)\n",
      "tensor(0.6599, grad_fn=<MseLossBackward>)\n",
      "tensor(0.6602, grad_fn=<MseLossBackward>)\n",
      "tensor(0.6599, grad_fn=<MseLossBackward>)\n",
      "tensor(0.6593, grad_fn=<MseLossBackward>)\n",
      "tensor(0.6592, grad_fn=<MseLossBackward>)\n",
      "tensor(0.6594, grad_fn=<MseLossBackward>)\n",
      "tensor(0.6593, grad_fn=<MseLossBackward>)\n",
      "tensor(0.6589, grad_fn=<MseLossBackward>)\n",
      "tensor(0.6586, grad_fn=<MseLossBackward>)\n",
      "tensor(0.6587, grad_fn=<MseLossBackward>)\n",
      "tensor(0.6588, grad_fn=<MseLossBackward>)\n",
      "tensor(0.6587, grad_fn=<MseLossBackward>)\n",
      "tensor(0.6585, grad_fn=<MseLossBackward>)\n",
      "tensor(0.6584, grad_fn=<MseLossBackward>)\n",
      "tensor(0.6584, grad_fn=<MseLossBackward>)\n",
      "tensor(0.6584, grad_fn=<MseLossBackward>)\n",
      "tensor(0.6582, grad_fn=<MseLossBackward>)\n",
      "tensor(0.6580, grad_fn=<MseLossBackward>)\n",
      "tensor(0.6580, grad_fn=<MseLossBackward>)\n",
      "tensor(0.6580, grad_fn=<MseLossBackward>)\n",
      "tensor(0.6579, grad_fn=<MseLossBackward>)\n",
      "tensor(0.6578, grad_fn=<MseLossBackward>)\n",
      "tensor(0.6577, grad_fn=<MseLossBackward>)\n",
      "tensor(0.6577, grad_fn=<MseLossBackward>)\n",
      "tensor(0.6576, grad_fn=<MseLossBackward>)\n",
      "tensor(0.6575, grad_fn=<MseLossBackward>)\n",
      "tensor(0.6574, grad_fn=<MseLossBackward>)\n",
      "tensor(0.6573, grad_fn=<MseLossBackward>)\n",
      "tensor(0.6573, grad_fn=<MseLossBackward>)\n",
      "tensor(0.6572, grad_fn=<MseLossBackward>)\n",
      "tensor(0.6571, grad_fn=<MseLossBackward>)\n",
      "tensor(0.6570, grad_fn=<MseLossBackward>)\n",
      "tensor(0.6569, grad_fn=<MseLossBackward>)\n",
      "tensor(0.6569, grad_fn=<MseLossBackward>)\n",
      "tensor(0.6568, grad_fn=<MseLossBackward>)\n",
      "tensor(0.6567, grad_fn=<MseLossBackward>)\n"
     ]
    },
    {
     "name": "stderr",
     "output_type": "stream",
     "text": [
      "/usr/local/anaconda3/lib/python3.7/site-packages/torch/nn/modules/loss.py:445: UserWarning: Using a target size (torch.Size([578, 1, 1])) that is different to the input size (torch.Size([578, 1, 3])). This will likely lead to incorrect results due to broadcasting. Please ensure they have the same size.\n",
      "  return F.mse_loss(input, target, reduction=self.reduction)\n"
     ]
    }
   ],
   "source": [
    "for i in range(100):\n",
    "    prediction = net(data)\n",
    "    loss = loss_func(prediction, label)\n",
    "    optimizer.zero_grad()\n",
    "    loss.backward()\n",
    "    optimizer.step()\n",
    "    print(loss)"
   ]
  },
  {
   "cell_type": "code",
   "execution_count": null,
   "metadata": {},
   "outputs": [],
   "source": []
  }
 ],
 "metadata": {
  "kernelspec": {
   "display_name": "Python 3",
   "language": "python",
   "name": "python3"
  },
  "language_info": {
   "codemirror_mode": {
    "name": "ipython",
    "version": 3
   },
   "file_extension": ".py",
   "mimetype": "text/x-python",
   "name": "python",
   "nbconvert_exporter": "python",
   "pygments_lexer": "ipython3",
   "version": "3.7.6"
  }
 },
 "nbformat": 4,
 "nbformat_minor": 4
}
